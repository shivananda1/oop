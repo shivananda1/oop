{
 "cells": [
  {
   "cell_type": "code",
   "execution_count": 2,
   "id": "f1a68b66-7bdc-47ba-8467-fd683e338267",
   "metadata": {},
   "outputs": [],
   "source": [
    "class physicswallah:\n",
    "    def __init__(self,name,batch,prise):\n",
    "        self.name=name\n",
    "        self.batch=batch\n",
    "        self.prise=prise\n",
    "    def getmy_cd(self):\n",
    "        return self.name,self.batch,self.prise\n",
    "        "
   ]
  },
  {
   "cell_type": "code",
   "execution_count": 3,
   "id": "f93abdc9-929f-4c33-888b-71ae3b623644",
   "metadata": {},
   "outputs": [],
   "source": [
    "obj=physicswallah('shiva',2022,3500)"
   ]
  },
  {
   "cell_type": "code",
   "execution_count": 5,
   "id": "df38c9bb-3e45-494c-9841-210b94c51b03",
   "metadata": {},
   "outputs": [
    {
     "data": {
      "text/plain": [
       "('shiva', 2022, 3500)"
      ]
     },
     "execution_count": 5,
     "metadata": {},
     "output_type": "execute_result"
    }
   ],
   "source": [
    "obj.getmy_cd()"
   ]
  },
  {
   "cell_type": "raw",
   "id": "ccd2f786-92ab-4ba2-a075-e1ca5d3c12ad",
   "metadata": {},
   "source": [
    "Q2)inheritance,encapsulation,data abstraction,polymorphysm are four pillars of OOP"
   ]
  },
  {
   "cell_type": "raw",
   "id": "f9e9c7c6-4a06-4d7e-b87d-44fea231f35e",
   "metadata": {},
   "source": [
    "Q3)__init__ is used initilize an object to class.\n"
   ]
  },
  {
   "cell_type": "raw",
   "id": "56b71a11-2ef4-4286-ab25-761fd189620f",
   "metadata": {},
   "source": [
    "Q4) used to assess the variable to class"
   ]
  },
  {
   "cell_type": "raw",
   "id": "0a380bb0-b19d-4e6b-9f9a-b7d804ed9bba",
   "metadata": {},
   "source": [
    "Q5) Inheritance means getting few characterstics of above class"
   ]
  },
  {
   "cell_type": "code",
   "execution_count": 20,
   "id": "949a55b6-9f1d-4b95-9392-5b252d6fca40",
   "metadata": {},
   "outputs": [],
   "source": [
    "class bankaccount:\n",
    "    def __init__(self,ac_no,ac_holder):\n",
    "        self.ac_holder=ac_holder\n",
    "        self.ac_no=ac_no\n",
    "        self.balance=0\n",
    "    def withdraw(self,amount):\n",
    "        if self.balance>amount:\n",
    "            self.balance=self.balance-amount\n",
    "            return self.balance\n",
    "        else:\n",
    "            print(\"sorry u have insufficient amount\")\n",
    "            \n",
    "    def deposite(self,amount):\n",
    "        self.balance=self.balance+amount\n",
    "        return self.balance\n",
    "        \n",
    "        \n",
    "class savings_ac(bankaccount):\n",
    "    def __init__(self,ac_no1,ac_holder,intrest_rate):\n",
    "        super().__init__(ac_no1,ac_holder)\n",
    "        self.intrest_rate=intrest_rate\n",
    "    def add_intrest(self):\n",
    "        intrest=self.balance*self.intrest_rate/100\n",
    "        self.balance=self.balance+intrest\n",
    "        return self.balance\n",
    "        \n",
    "    "
   ]
  },
  {
   "cell_type": "code",
   "execution_count": 30,
   "id": "c3d57210-a8d7-43d2-8aea-1685ded9aad7",
   "metadata": {},
   "outputs": [],
   "source": [
    "cc=savings_ac(225455,1000,2)"
   ]
  },
  {
   "cell_type": "code",
   "execution_count": 28,
   "id": "f8dd88d4-4ffc-446c-be0c-71ab09647599",
   "metadata": {},
   "outputs": [
    {
     "name": "stdout",
     "output_type": "stream",
     "text": [
      "sorry u have insufficient amount\n"
     ]
    }
   ],
   "source": [
    "cc.withdraw(200)"
   ]
  },
  {
   "cell_type": "code",
   "execution_count": 29,
   "id": "22eb7adf-3f6a-487a-acad-ae849ef6576d",
   "metadata": {},
   "outputs": [
    {
     "ename": "AttributeError",
     "evalue": "'bankaccount' object has no attribute 'add_intrest'",
     "output_type": "error",
     "traceback": [
      "\u001b[0;31m---------------------------------------------------------------------------\u001b[0m",
      "\u001b[0;31mAttributeError\u001b[0m                            Traceback (most recent call last)",
      "Cell \u001b[0;32mIn[29], line 1\u001b[0m\n\u001b[0;32m----> 1\u001b[0m \u001b[43mcc\u001b[49m\u001b[38;5;241;43m.\u001b[39;49m\u001b[43madd_intrest\u001b[49m(\u001b[38;5;241m2\u001b[39m)\n",
      "\u001b[0;31mAttributeError\u001b[0m: 'bankaccount' object has no attribute 'add_intrest'"
     ]
    }
   ],
   "source": [
    "cc.add_intrest(2)"
   ]
  },
  {
   "cell_type": "code",
   "execution_count": 24,
   "id": "08a73057-0a18-450d-b6a5-7b07ecefab32",
   "metadata": {},
   "outputs": [
    {
     "name": "stdout",
     "output_type": "stream",
     "text": [
      "better luck next time\n"
     ]
    }
   ],
   "source": [
    "obj.induction(\"swami\")"
   ]
  },
  {
   "cell_type": "code",
   "execution_count": 25,
   "id": "bf073c58-6377-481e-b6b9-17b6faa3a53b",
   "metadata": {},
   "outputs": [
    {
     "ename": "AttributeError",
     "evalue": "'club' object has no attribute 'certification'",
     "output_type": "error",
     "traceback": [
      "\u001b[0;31m---------------------------------------------------------------------------\u001b[0m",
      "\u001b[0;31mAttributeError\u001b[0m                            Traceback (most recent call last)",
      "Cell \u001b[0;32mIn[25], line 1\u001b[0m\n\u001b[0;32m----> 1\u001b[0m \u001b[43mobj\u001b[49m\u001b[38;5;241;43m.\u001b[39;49m\u001b[43mcertification\u001b[49m()\n",
      "\u001b[0;31mAttributeError\u001b[0m: 'club' object has no attribute 'certification'"
     ]
    }
   ],
   "source": [
    "obj.certification()"
   ]
  },
  {
   "cell_type": "code",
   "execution_count": null,
   "id": "d1e228cc-de77-45df-bf19-99c5be157474",
   "metadata": {},
   "outputs": [],
   "source": []
  },
  {
   "cell_type": "code",
   "execution_count": null,
   "id": "8ceb34ad-164a-4ba1-a8ee-9771afdd142b",
   "metadata": {},
   "outputs": [],
   "source": []
  }
 ],
 "metadata": {
  "kernelspec": {
   "display_name": "Python 3 (ipykernel)",
   "language": "python",
   "name": "python3"
  },
  "language_info": {
   "codemirror_mode": {
    "name": "ipython",
    "version": 3
   },
   "file_extension": ".py",
   "mimetype": "text/x-python",
   "name": "python",
   "nbconvert_exporter": "python",
   "pygments_lexer": "ipython3",
   "version": "3.10.8"
  }
 },
 "nbformat": 4,
 "nbformat_minor": 5
}
